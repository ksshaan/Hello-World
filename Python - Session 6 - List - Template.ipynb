{
 "cells": [
  {
   "cell_type": "markdown",
   "metadata": {
    "collapsed": true
   },
   "source": [
    "### A. List is a sequence of values"
   ]
  },
  {
   "cell_type": "markdown",
   "metadata": {},
   "source": [
    "Like a string, a list is a sequence of values. In a string, the values are characters; in a list, they can be any type. The values in list are called elements or sometimes items."
   ]
  },
  {
   "cell_type": "markdown",
   "metadata": {},
   "source": [
    "### B. List Examples"
   ]
  },
  {
   "cell_type": "code",
   "execution_count": 1,
   "metadata": {},
   "outputs": [
    {
     "data": {
      "text/plain": [
       "[1, 3, 5, 7, 9]"
      ]
     },
     "execution_count": 1,
     "metadata": {},
     "output_type": "execute_result"
    }
   ],
   "source": [
    "[1,3,5,7,9]"
   ]
  },
  {
   "cell_type": "code",
   "execution_count": 2,
   "metadata": {},
   "outputs": [
    {
     "data": {
      "text/plain": [
       "['apple', 'ball', 'cat', 'doll']"
      ]
     },
     "execution_count": 2,
     "metadata": {},
     "output_type": "execute_result"
    }
   ],
   "source": [
    "['apple', 'ball', 'cat', 'doll']"
   ]
  },
  {
   "cell_type": "code",
   "execution_count": 3,
   "metadata": {},
   "outputs": [
    {
     "data": {
      "text/plain": [
       "[1, 'one']"
      ]
     },
     "execution_count": 3,
     "metadata": {},
     "output_type": "execute_result"
    }
   ],
   "source": [
    "[1, 'one']"
   ]
  },
  {
   "cell_type": "code",
   "execution_count": 4,
   "metadata": {},
   "outputs": [
    {
     "data": {
      "text/plain": [
       "[[1, 2, 3], [4, 5, 6]]"
      ]
     },
     "execution_count": 4,
     "metadata": {},
     "output_type": "execute_result"
    }
   ],
   "source": [
    "[[1,2,3],[4,5,6]]"
   ]
  },
  {
   "cell_type": "code",
   "execution_count": null,
   "metadata": {},
   "outputs": [],
   "source": []
  },
  {
   "cell_type": "markdown",
   "metadata": {},
   "source": [
    "### C. Lists are Mutable "
   ]
  },
  {
   "cell_type": "code",
   "execution_count": 5,
   "metadata": {},
   "outputs": [
    {
     "data": {
      "text/plain": [
       "'ball'"
      ]
     },
     "execution_count": 5,
     "metadata": {},
     "output_type": "execute_result"
    }
   ],
   "source": [
    "words = ['apple', 'ball', 'cat', 'doll']\n",
    "words[1]"
   ]
  },
  {
   "cell_type": "code",
   "execution_count": 6,
   "metadata": {},
   "outputs": [
    {
     "data": {
      "text/plain": [
       "['apple', 'balloon', 'cat', 'doll']"
      ]
     },
     "execution_count": 6,
     "metadata": {},
     "output_type": "execute_result"
    }
   ],
   "source": [
    "words[1]= 'balloon'\n",
    "words"
   ]
  },
  {
   "cell_type": "markdown",
   "metadata": {},
   "source": [
    "### D. List Operations"
   ]
  },
  {
   "cell_type": "code",
   "execution_count": 2,
   "metadata": {},
   "outputs": [
    {
     "data": {
      "text/plain": [
       "[1, 2, 3, 4, 5, 6]"
      ]
     },
     "execution_count": 2,
     "metadata": {},
     "output_type": "execute_result"
    }
   ],
   "source": [
    "a = [1,2,3]\n",
    "b = [4,5,6]\n",
    "\n",
    "a + b"
   ]
  },
  {
   "cell_type": "code",
   "execution_count": 8,
   "metadata": {},
   "outputs": [
    {
     "data": {
      "text/plain": [
       "[1, 2, 3, 1, 2, 3, 1, 2, 3, 1, 2, 3]"
      ]
     },
     "execution_count": 8,
     "metadata": {},
     "output_type": "execute_result"
    }
   ],
   "source": [
    "a*4"
   ]
  },
  {
   "cell_type": "code",
   "execution_count": 4,
   "metadata": {},
   "outputs": [
    {
     "data": {
      "text/plain": [
       "[1, 1, 1, 1]"
      ]
     },
     "execution_count": 4,
     "metadata": {},
     "output_type": "execute_result"
    }
   ],
   "source": [
    "[1]*4"
   ]
  },
  {
   "cell_type": "markdown",
   "metadata": {},
   "source": [
    "### E. Slicing List"
   ]
  },
  {
   "cell_type": "code",
   "execution_count": 7,
   "metadata": {},
   "outputs": [],
   "source": [
    "words = ['apple', 'ball', 'cat', 'dog', 'elephant', 'fish', 'giraffe']\n"
   ]
  },
  {
   "cell_type": "code",
   "execution_count": 11,
   "metadata": {},
   "outputs": [
    {
     "data": {
      "text/plain": [
       "['ball', 'cat']"
      ]
     },
     "execution_count": 11,
     "metadata": {},
     "output_type": "execute_result"
    }
   ],
   "source": [
    "words[1:3]"
   ]
  },
  {
   "cell_type": "code",
   "execution_count": 12,
   "metadata": {},
   "outputs": [
    {
     "data": {
      "text/plain": [
       "['apple', 'ball', 'cat', 'dog']"
      ]
     },
     "execution_count": 12,
     "metadata": {},
     "output_type": "execute_result"
    }
   ],
   "source": [
    "words[:4]"
   ]
  },
  {
   "cell_type": "code",
   "execution_count": 13,
   "metadata": {},
   "outputs": [
    {
     "data": {
      "text/plain": [
       "['elephant', 'fish', 'giraffe']"
      ]
     },
     "execution_count": 13,
     "metadata": {},
     "output_type": "execute_result"
    }
   ],
   "source": [
    "words[4:]"
   ]
  },
  {
   "cell_type": "code",
   "execution_count": 10,
   "metadata": {},
   "outputs": [
    {
     "data": {
      "text/plain": [
       "['apple', 'cat', 'elephant']"
      ]
     },
     "execution_count": 10,
     "metadata": {},
     "output_type": "execute_result"
    }
   ],
   "source": [
    "words[:-2:2]"
   ]
  },
  {
   "cell_type": "code",
   "execution_count": 12,
   "metadata": {},
   "outputs": [
    {
     "data": {
      "text/plain": [
       "['apple', 'dog']"
      ]
     },
     "execution_count": 12,
     "metadata": {},
     "output_type": "execute_result"
    }
   ],
   "source": [
    "words[0:5:3]"
   ]
  },
  {
   "cell_type": "code",
   "execution_count": 13,
   "metadata": {},
   "outputs": [
    {
     "data": {
      "text/plain": [
       "['fish', 'elephant', 'dog', 'cat', 'ball', 'apple']"
      ]
     },
     "execution_count": 13,
     "metadata": {},
     "output_type": "execute_result"
    }
   ],
   "source": [
    "words[5::-1]"
   ]
  },
  {
   "cell_type": "code",
   "execution_count": null,
   "metadata": {},
   "outputs": [],
   "source": []
  },
  {
   "cell_type": "code",
   "execution_count": null,
   "metadata": {},
   "outputs": [],
   "source": []
  },
  {
   "cell_type": "markdown",
   "metadata": {},
   "source": [
    "### F. List and Function"
   ]
  },
  {
   "cell_type": "code",
   "execution_count": 14,
   "metadata": {},
   "outputs": [
    {
     "data": {
      "text/plain": [
       "7"
      ]
     },
     "execution_count": 14,
     "metadata": {},
     "output_type": "execute_result"
    }
   ],
   "source": [
    "len(words)"
   ]
  },
  {
   "cell_type": "code",
   "execution_count": 15,
   "metadata": {},
   "outputs": [
    {
     "data": {
      "text/plain": [
       "'giraffe'"
      ]
     },
     "execution_count": 15,
     "metadata": {},
     "output_type": "execute_result"
    }
   ],
   "source": [
    "max(words)"
   ]
  },
  {
   "cell_type": "code",
   "execution_count": 16,
   "metadata": {},
   "outputs": [
    {
     "data": {
      "text/plain": [
       "'apple'"
      ]
     },
     "execution_count": 16,
     "metadata": {},
     "output_type": "execute_result"
    }
   ],
   "source": [
    "min(words)"
   ]
  },
  {
   "cell_type": "code",
   "execution_count": 18,
   "metadata": {},
   "outputs": [],
   "source": [
    "x = [1, 2, 3]"
   ]
  },
  {
   "cell_type": "code",
   "execution_count": 19,
   "metadata": {},
   "outputs": [
    {
     "data": {
      "text/plain": [
       "6"
      ]
     },
     "execution_count": 19,
     "metadata": {},
     "output_type": "execute_result"
    }
   ],
   "source": [
    "sum(x)"
   ]
  },
  {
   "cell_type": "code",
   "execution_count": 20,
   "metadata": {},
   "outputs": [
    {
     "data": {
      "text/plain": [
       "2.0"
      ]
     },
     "execution_count": 20,
     "metadata": {},
     "output_type": "execute_result"
    }
   ],
   "source": [
    "sum(x)/len(x)"
   ]
  },
  {
   "cell_type": "code",
   "execution_count": 21,
   "metadata": {},
   "outputs": [
    {
     "data": {
      "text/plain": [
       "3"
      ]
     },
     "execution_count": 21,
     "metadata": {},
     "output_type": "execute_result"
    }
   ],
   "source": [
    "max(x)"
   ]
  },
  {
   "cell_type": "markdown",
   "metadata": {},
   "source": [
    "### G. List Methods"
   ]
  },
  {
   "cell_type": "code",
   "execution_count": 22,
   "metadata": {},
   "outputs": [
    {
     "data": {
      "text/plain": [
       "['__add__',\n",
       " '__class__',\n",
       " '__contains__',\n",
       " '__delattr__',\n",
       " '__delitem__',\n",
       " '__dir__',\n",
       " '__doc__',\n",
       " '__eq__',\n",
       " '__format__',\n",
       " '__ge__',\n",
       " '__getattribute__',\n",
       " '__getitem__',\n",
       " '__gt__',\n",
       " '__hash__',\n",
       " '__iadd__',\n",
       " '__imul__',\n",
       " '__init__',\n",
       " '__init_subclass__',\n",
       " '__iter__',\n",
       " '__le__',\n",
       " '__len__',\n",
       " '__lt__',\n",
       " '__mul__',\n",
       " '__ne__',\n",
       " '__new__',\n",
       " '__reduce__',\n",
       " '__reduce_ex__',\n",
       " '__repr__',\n",
       " '__reversed__',\n",
       " '__rmul__',\n",
       " '__setattr__',\n",
       " '__setitem__',\n",
       " '__sizeof__',\n",
       " '__str__',\n",
       " '__subclasshook__',\n",
       " 'append',\n",
       " 'clear',\n",
       " 'copy',\n",
       " 'count',\n",
       " 'extend',\n",
       " 'index',\n",
       " 'insert',\n",
       " 'pop',\n",
       " 'remove',\n",
       " 'reverse',\n",
       " 'sort']"
      ]
     },
     "execution_count": 22,
     "metadata": {},
     "output_type": "execute_result"
    }
   ],
   "source": [
    "dir(words)"
   ]
  },
  {
   "cell_type": "code",
   "execution_count": 23,
   "metadata": {},
   "outputs": [
    {
     "data": {
      "text/plain": [
       "['ball', 'dog']"
      ]
     },
     "execution_count": 23,
     "metadata": {},
     "output_type": "execute_result"
    }
   ],
   "source": [
    "words[1:4:2]"
   ]
  },
  {
   "cell_type": "code",
   "execution_count": 24,
   "metadata": {},
   "outputs": [
    {
     "data": {
      "text/plain": [
       "['apple', 'ball', 'cat', 'dog', 'elephant', 'fish', 'giraffe', 'hayabusa']"
      ]
     },
     "execution_count": 24,
     "metadata": {},
     "output_type": "execute_result"
    }
   ],
   "source": [
    "words.append('hayabusa')\n",
    "words"
   ]
  },
  {
   "cell_type": "code",
   "execution_count": 27,
   "metadata": {},
   "outputs": [
    {
     "data": {
      "text/plain": [
       "['apple', 'ball', 'elephant', 'fish', 'giraffe', 'hayabusa']"
      ]
     },
     "execution_count": 27,
     "metadata": {},
     "output_type": "execute_result"
    }
   ],
   "source": [
    "words.remove('cat')\n",
    "words"
   ]
  },
  {
   "cell_type": "code",
   "execution_count": 28,
   "metadata": {},
   "outputs": [
    {
     "data": {
      "text/plain": [
       "['apple', 'ball', 'elephant', 'fish', 'hayabusa', 'giraffe', 'hayabusa']"
      ]
     },
     "execution_count": 28,
     "metadata": {},
     "output_type": "execute_result"
    }
   ],
   "source": [
    "words.insert(4,'hayabusa')\n",
    "words"
   ]
  },
  {
   "cell_type": "code",
   "execution_count": null,
   "metadata": {},
   "outputs": [],
   "source": []
  },
  {
   "cell_type": "code",
   "execution_count": null,
   "metadata": {},
   "outputs": [],
   "source": []
  },
  {
   "cell_type": "code",
   "execution_count": null,
   "metadata": {},
   "outputs": [],
   "source": []
  },
  {
   "cell_type": "code",
   "execution_count": null,
   "metadata": {},
   "outputs": [],
   "source": []
  },
  {
   "cell_type": "code",
   "execution_count": null,
   "metadata": {},
   "outputs": [],
   "source": []
  },
  {
   "cell_type": "markdown",
   "metadata": {},
   "source": [
    "### H. List and Strings"
   ]
  },
  {
   "cell_type": "code",
   "execution_count": 29,
   "metadata": {},
   "outputs": [
    {
     "name": "stdout",
     "output_type": "stream",
     "text": [
      "['s', 't', 'r', 'i', 'n', 'g']\n"
     ]
    }
   ],
   "source": [
    "s = 'string'\n",
    "t = list(s)   #Converting a string to a list\n",
    "print(t)"
   ]
  },
  {
   "cell_type": "code",
   "execution_count": 30,
   "metadata": {},
   "outputs": [
    {
     "data": {
      "text/plain": [
       "['I', 'love', 'python']"
      ]
     },
     "execution_count": 30,
     "metadata": {},
     "output_type": "execute_result"
    }
   ],
   "source": [
    "my_str = 'I love python'\n",
    "my_str.split()"
   ]
  },
  {
   "cell_type": "code",
   "execution_count": 32,
   "metadata": {},
   "outputs": [
    {
     "data": {
      "text/plain": [
       "['i', 'love', 'python']"
      ]
     },
     "execution_count": 32,
     "metadata": {},
     "output_type": "execute_result"
    }
   ],
   "source": [
    "my_strrr = 'i-love-python'\n",
    "my_strrr.split('-')"
   ]
  },
  {
   "cell_type": "code",
   "execution_count": 44,
   "metadata": {},
   "outputs": [
    {
     "name": "stdout",
     "output_type": "stream",
     "text": [
      "['i', 'love', 'python']\n"
     ]
    },
    {
     "data": {
      "text/plain": [
       "'i  Praxis  love  Praxis  python'"
      ]
     },
     "execution_count": 44,
     "metadata": {},
     "output_type": "execute_result"
    }
   ],
   "source": [
    "my_strrr.split()\n",
    "l = my_strrr.split('-')\n",
    "print(l)\n",
    "'  Praxis  '.join(l)"
   ]
  },
  {
   "cell_type": "code",
   "execution_count": null,
   "metadata": {},
   "outputs": [],
   "source": []
  },
  {
   "cell_type": "code",
   "execution_count": null,
   "metadata": {},
   "outputs": [],
   "source": []
  },
  {
   "cell_type": "code",
   "execution_count": null,
   "metadata": {},
   "outputs": [],
   "source": []
  },
  {
   "cell_type": "code",
   "execution_count": null,
   "metadata": {},
   "outputs": [],
   "source": []
  },
  {
   "cell_type": "markdown",
   "metadata": {},
   "source": [
    "### I. Exercise"
   ]
  },
  {
   "cell_type": "markdown",
   "metadata": {},
   "source": [
    "[A] Suppose that you are creating a software to track transactions. First this software will prompt for the number of unique items purchased following which it will prompt for the items purchased by the customers and finally return the list of items purchased. Once the list is recorded for one customer it will ask if you want to continue.\n",
    "\n",
    "    Enter the number of unique items purchased: 3\n",
    "    Enter item no. 1 apple\n",
    "    Enter item no. 2 juice\n",
    "    Enter item no. 3 butter\n",
    "\n",
    "    Transaction details:\n",
    "    ['apple', 'juice', 'butter']\n",
    "\n",
    "    Do you want to continue: yes\n",
    "    Enter the number of unique items purchased: 2\n",
    "    Enter item no. 1 bread\n",
    "    Enter item no. 2 jam\n",
    "\n",
    "    Transaction details:\n",
    "    ['bread', 'jam']\n",
    "\n",
    "    Do you want to continue: no"
   ]
  },
  {
   "cell_type": "code",
   "execution_count": 54,
   "metadata": {},
   "outputs": [
    {
     "name": "stdout",
     "output_type": "stream",
     "text": [
      "enter the unique items to be purchased3\n",
      "enter the item to be purchased  wheat\n",
      "enter the item to be purchased  sugar\n",
      "enter the item to be purchased  rice\n",
      "list of items =  ['wheat', 'sugar', 'rice']\n",
      "Do you want to continue, Next Customer ?  Yes or No ?Yes\n",
      "enter the unique items to be purchased2\n",
      "enter the item to be purchased  lime\n",
      "enter the item to be purchased  wheel\n",
      "list of items =  ['wheat', 'sugar', 'rice', 'lime', 'wheel']\n",
      "Do you want to continue, Next Customer ?  Yes or No ?No\n"
     ]
    }
   ],
   "source": [
    "listof_items = []\n",
    "decide = 'Yes'\n",
    "while decide == 'Yes' :\n",
    "    unique_items = int(input('enter the unique items to be purchased  '))\n",
    "    for i in range(0,unique_items):\n",
    "        item = str(input('enter the item to be purchased  '))\n",
    "        listof_items.append(item)\n",
    "\n",
    "    print('list of items = ' , listof_items)\n",
    "    decide = str(input('Do you want to continue, Next Customer ?  Yes or No ?'))\n",
    "\n",
    "\n",
    "\n",
    "    "
   ]
  },
  {
   "cell_type": "code",
   "execution_count": null,
   "metadata": {},
   "outputs": [],
   "source": []
  },
  {
   "cell_type": "markdown",
   "metadata": {},
   "source": [
    "[B] The previous solution (as it is evident) was a very crude solution. Someone in the billing counter has no idea about the number of unique products purchased by a customer. Therefore the program should be designed in such a way that will enable the person in the billing counter to start recording the items once a customer arrives at the billing desk and keep recording the items until it signals done. Once the person is done recording the items of one customer it will ask if he/she need to record one more transaction. If yes it continues...\n",
    "\n",
    "    Enter item no. 1 : apple\n",
    "    Enter item no. 2 : juice\n",
    "    Enter item no. 3 : butter\n",
    "    Enter item no. 4 : done\n",
    "    \n",
    "    Transaction for Customer 1\n",
    "    ['apple', 'juice', 'butter']\n",
    "    \n",
    "    \n",
    "    Next customer? (yes/no): yes\n",
    "    \n",
    "    Enter item no. 1 : bread\n",
    "    Enter item no. 2 : jam\n",
    "    Enter item no. 3 : done\n",
    "    \n",
    "    Transaction for Customer 1\n",
    "    ['bread', 'jam']\n",
    "    \n",
    "    \n",
    "    Next customer? (yes/no): no"
   ]
  },
  {
   "cell_type": "code",
   "execution_count": 60,
   "metadata": {},
   "outputs": [
    {
     "name": "stdout",
     "output_type": "stream",
     "text": [
      "enter the item to be purchased  df\n",
      "enter the item to be purchased  asd\n",
      "enter the item to be purchased  sdf\n",
      "enter the item to be purchased  done\n",
      "list of items =  ['df', 'asd', 'sdf']\n",
      "Do you want to continue, Next Customer ?  Yes or No ?Yes\n",
      "enter the item to be purchased  dfsd\n",
      "enter the item to be purchased  sdf\n",
      "enter the item to be purchased  sfg\n",
      "enter the item to be purchased  done\n",
      "list of items =  ['df', 'asd', 'sdf', 'dfsd', 'sdf', 'sfg']\n",
      "Do you want to continue, Next Customer ?  Yes or No ?No\n"
     ]
    }
   ],
   "source": [
    "listof_items = []\n",
    "decide = 'Yes'\n",
    "item = 'hey'\n",
    "while decide == 'Yes' :\n",
    "    item = 'hey'\n",
    "    while item != 'done':\n",
    "        item = str(input('enter the item to be purchased  '))\n",
    "        listof_items.append(item)\n",
    "    listof_items.remove('done')\n",
    "    print('list of items = ' , listof_items)\n",
    "    \n",
    "    decide = str(input('Do you want to continue, Next Customer ?  Yes or No ?'))\n",
    "\n"
   ]
  },
  {
   "cell_type": "markdown",
   "metadata": {},
   "source": [
    "[C] Modify the above program such that for every item the software prompts  for the quantity purchases and its price. Finally for each customers, along with the list of items purchases it also gives the bill amount.\n",
    "\n",
    "    Item 1 : apple\n",
    "    Quantity for item 1: 0.5\n",
    "    Price for item 1: 109\n",
    "    Item 2 : juice\n",
    "    Quantity for item 2: 1\n",
    "    Price for item 2: 99\n",
    "    Item 3 : butter\n",
    "    Quantity for item 3: 2\n",
    "    Price for item 3: 45\n",
    "    Item 4 : done\n",
    "    \n",
    "    Transaction for Customer 1\n",
    "    ['apple', 'juice', 'butter']\n",
    "    Total:  243.5\n",
    "    \n",
    "    \n",
    "    Next customer? (yes/no): yes\n",
    "    \n",
    "    Item 1 : bread\n",
    "    Quantity for item 1: 1\n",
    "    Price for item 1: 31\n",
    "    Item 2 : Jam\n",
    "    Quantity for item 2: 1\n",
    "    Price for item 2: 89\n",
    "    Item 3 : done\n",
    "    \n",
    "    Transaction for Customer 1\n",
    "    ['bread', 'Jam']\n",
    "    Total:  120.0\n",
    "    \n",
    "    \n",
    "    Next customer? (yes/no): no"
   ]
  },
  {
   "cell_type": "code",
   "execution_count": 87,
   "metadata": {
    "scrolled": true
   },
   "outputs": [
    {
     "name": "stdout",
     "output_type": "stream",
     "text": [
      "enter the item to be purchased  as\n",
      "enter how many ?4\n",
      "enter the price ?  22\n",
      "enter the item to be purchased  qweq\n",
      "enter how many ?12\n",
      "enter the price ?  22\n",
      "enter the item to be purchased  done\n",
      "list of items =  ['as', 'qweq']\n",
      "your bill is =  352.0\n",
      "Do you want to continue, Next Customer ?  Yes or No ?Yes\n",
      "enter the item to be purchased  done\n",
      "list of items =  ['as', 'qweq']\n",
      "your bill is =  0\n",
      "Do you want to continue, Next Customer ?  Yes or No ?No\n"
     ]
    }
   ],
   "source": [
    "listof_items = []\n",
    "decide = 'Yes'\n",
    "item = 'hey'\n",
    "while decide == 'Yes' :\n",
    "    item = 'hey'\n",
    "    bill = 0\n",
    "    while item != 'done':\n",
    "        item = str(input('enter the item to be purchased  '))\n",
    "        if item == 'done':\n",
    "            break\n",
    "        count = int(input('enter how many ?'))\n",
    "        price = float(input('enter the price ?  '))\n",
    "        bill = bill + count*price                  \n",
    "        listof_items.append(item)\n",
    "    #listof_items.remove('done')\n",
    "    print('list of items = ' , listof_items)\n",
    "    print('your bill is = ',bill)\n",
    "    \n",
    "    decide = str(input('Do you want to continue, Next Customer ?  Yes or No ?'))\n"
   ]
  },
  {
   "cell_type": "markdown",
   "metadata": {},
   "source": [
    "[D] I am sure that almost all of you have searched coupon codes to get discounts from Food Panda or Swiggy. Have you noticed that once you have applied a code you cannot apply it again? But the website shows you all. Come on , let us write one such program.\n",
    "\n",
    "    Following are the available list of coupons for Food Panda\n",
    "    ['FP040', 'FP111', 'FPHBD05', 'FP9989', 'HappyMeal']\n",
    "\n",
    "\n",
    "    Type the one you want to apply: FP9989\n",
    "    Congratulation! You have successfully applied this coupon\n",
    "\n",
    "    would you like to use another coupon?yes\n",
    "    Following are the available list of coupons for Food Panda\n",
    "    ['FP040', 'FP111', 'FPHBD05', 'FP9989', 'HappyMeal']\n",
    "\n",
    "\n",
    "    Type the one you want to apply: FP9989\n",
    "    Sorry! You have already applied this coupon\n",
    "\n",
    "    would you like to use another coupon? no\n",
    "\n"
   ]
  },
  {
   "cell_type": "code",
   "execution_count": 85,
   "metadata": {},
   "outputs": [
    {
     "name": "stdout",
     "output_type": "stream",
     "text": [
      "DO you wnat to use the coupon ?  Yes\n",
      "enter the coupon to be used FP040\n",
      "congrats you have used this coupon FP040\n",
      "DO you wnat to use the coupon ?  Yes\n",
      "enter the coupon to be used FP040\n",
      " Sorry ! You have already availed this coupon FP040\n",
      "DO you wnat to use the coupon ?  Yes\n",
      "enter the coupon to be used sdfs\n",
      "not valid coupon\n"
     ]
    }
   ],
   "source": [
    "coupons = ['FP040', 'FP111', 'FPHBD05', 'FP9989', 'HappyMeal']\n",
    "coupon_fixed = ['FP040', 'FP111', 'FPHBD05', 'FP9989', 'HappyMeal']\n",
    "decide = 'Yes'\n",
    "while decide == 'Yes':\n",
    "    decide = str(input('DO you wnat to use the coupon ?  '))\n",
    "    if decide == 'No':\n",
    "        break\n",
    "    use_coupon = str(input('enter the coupon to be used '))\n",
    "    if use_coupon not in coupon_fixed :\n",
    "        print('not valid coupon')\n",
    "        break\n",
    "    if use_coupon in coupons:\n",
    "        print('congrats you have used this coupon', use_coupon)\n",
    "        coupons.remove(use_coupon)\n",
    "    else : \n",
    "        print(' Sorry ! You have already availed this coupon',use_coupon)\n",
    "\n",
    "\n"
   ]
  },
  {
   "cell_type": "markdown",
   "metadata": {},
   "source": [
    "[E] In the files exercises, we had found out the list of email ids from the mbox file. Can we extract the list of unique email ids?\n",
    "\n",
    "    stephen.marquard@uct.ac.za\n",
    "    louis@media.berkeley.edu\n",
    "    zqian@umich.edu\n",
    "    rjlowe@iupui.edu\n",
    "    cwen@iupui.edu\n",
    "    gsilver@umich.edu\n",
    "    wagnermr@iupui.edu\n",
    "    antranig@caret.cam.ac.uk\n",
    "    gopal.ramasammycook@gmail.com\n",
    "    david.horwitz@uct.ac.za\n",
    "    ray@media.berkeley.edu\n",
    "\n",
    "    Total unique contacts = 11"
   ]
  },
  {
   "cell_type": "code",
   "execution_count": 86,
   "metadata": {},
   "outputs": [
    {
     "name": "stdout",
     "output_type": "stream",
     "text": [
      "['stephen.marquard@uct.ac.za', 'louis@media.berkeley.edu', 'zqian@umich.edu', 'rjlowe@iupui.edu', 'cwen@iupui.edu', 'gsilver@umich.edu', 'wagnermr@iupui.edu', 'antranig@caret.cam.ac.uk', 'gopal.ramasammycook@gmail.com', 'david.horwitz@uct.ac.za', 'ray@media.berkeley.edu']\n",
      "Totla uniques contacts are =  11\n"
     ]
    }
   ],
   "source": [
    "\n",
    "fhand = open(\"mbox-short.txt\")\n",
    "email_list = []\n",
    "for line in fhand:\n",
    "    if line.startswith('From:'):\n",
    "        #print(line.rstrip())\n",
    "        j = line.rstrip()\n",
    "        check = j.find(' ')\n",
    "        email_id = j[check+1:]\n",
    "        if email_id not in email_list :\n",
    "            email_list.append(email_id)\n",
    "print(email_list)\n",
    "print('Totla uniques contacts are = ',len(email_list))"
   ]
  },
  {
   "cell_type": "code",
   "execution_count": 15,
   "metadata": {},
   "outputs": [
    {
     "data": {
      "text/plain": [
       "[2, 4, 5, 10, 3, 1]"
      ]
     },
     "execution_count": 15,
     "metadata": {},
     "output_type": "execute_result"
    }
   ],
   "source": [
    "a = [2,4,5,3,1]\n",
    "a.insert(3,10)\n",
    "a"
   ]
  },
  {
   "cell_type": "code",
   "execution_count": 20,
   "metadata": {},
   "outputs": [],
   "source": [
    "kvps = {'1':1, '2':2}\n",
    "theCopy = kvps.copy()\n",
    "kvps['1'] = 5"
   ]
  },
  {
   "cell_type": "code",
   "execution_count": 21,
   "metadata": {},
   "outputs": [
    {
     "data": {
      "text/plain": [
       "{'1': 1, '2': 2}"
      ]
     },
     "execution_count": 21,
     "metadata": {},
     "output_type": "execute_result"
    }
   ],
   "source": [
    "theCopy"
   ]
  },
  {
   "cell_type": "code",
   "execution_count": 22,
   "metadata": {},
   "outputs": [
    {
     "name": "stdout",
     "output_type": "stream",
     "text": [
      "2\n",
      "3\n"
     ]
    }
   ],
   "source": [
    "x = True\n",
    "y = False\n",
    "z = False\n",
    "\n",
    "if not x or y:\n",
    "    print(1)\n",
    "if not x or not y or z:\n",
    "    print(2)\n",
    "if not x or y or not y and x:\n",
    "    print(3)\n",
    "else:\n",
    "    print(4)"
   ]
  },
  {
   "cell_type": "code",
   "execution_count": null,
   "metadata": {},
   "outputs": [],
   "source": []
  }
 ],
 "metadata": {
  "kernelspec": {
   "display_name": "Python 3",
   "language": "python",
   "name": "python3"
  },
  "language_info": {
   "codemirror_mode": {
    "name": "ipython",
    "version": 3
   },
   "file_extension": ".py",
   "mimetype": "text/x-python",
   "name": "python",
   "nbconvert_exporter": "python",
   "pygments_lexer": "ipython3",
   "version": "3.7.4"
  }
 },
 "nbformat": 4,
 "nbformat_minor": 2
}
