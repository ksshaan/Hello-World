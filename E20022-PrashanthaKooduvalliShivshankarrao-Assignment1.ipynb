{
 "cells": [
  {
   "cell_type": "markdown",
   "metadata": {},
   "source": [
    "#  PYTHON ASSIGNMENT 1"
   ]
  },
  {
   "cell_type": "markdown",
   "metadata": {},
   "source": [
    "# PRASHANTHA KOODUVALLI SHIVSHANKARRAO - E20022"
   ]
  },
  {
   "cell_type": "markdown",
   "metadata": {},
   "source": [
    "##  1. Program to handle the ValueError & ZeroDivisionError"
   ]
  },
  {
   "cell_type": "code",
   "execution_count": 2,
   "metadata": {},
   "outputs": [
    {
     "name": "stdout",
     "output_type": "stream",
     "text": [
      "enter the number to divide : op\n",
      "invalid literal for int() with base 10: 'op'\n",
      "As the number input was invalid, dividing by 1 =  9.0\n"
     ]
    }
   ],
   "source": [
    "#The below example will handle two exceptions \n",
    "# 1 Value error(incase of invalid input) & \n",
    "# 2 Zerodivision Error (incase of divisor is 0 as provided by the input)\n",
    "\n",
    "#program begins with taking input for the divisor\n",
    "try:\n",
    "        x = int(input('enter the number to divide : '))\n",
    "        p = 9 / x\n",
    "        print(p)\n",
    "        \n",
    "#This block handles the exception incase divisor is invalid[not a valid number]\n",
    "except(ValueError) as v:    \n",
    "        print(v)\n",
    "        print('As the number input was invalid, dividing by 1 = ', 9/1)\n",
    "        \n",
    "#This block handles the exception incase divisor turns out to be zero        \n",
    "except(ZeroDivisionError):\n",
    "        print(9/0.00001)"
   ]
  },
  {
   "cell_type": "markdown",
   "metadata": {},
   "source": [
    "##  2. Program to handle the IOError"
   ]
  },
  {
   "cell_type": "code",
   "execution_count": 3,
   "metadata": {},
   "outputs": [
    {
     "name": "stdout",
     "output_type": "stream",
     "text": [
      "Enter the directory to be changed to  ll\n",
      "[WinError 2] The system cannot find the file specified: 'll'\n",
      "Invalid directory input to move to\n"
     ]
    }
   ],
   "source": [
    "import os\n",
    "#The Below program will handle the exception for IOError\n",
    "\n",
    "#program begins with taking input for the input directory to be changed into\n",
    "try:\n",
    "    dir = input('Enter the directory to be changed to  ')\n",
    "    os.chdir(dir)\n",
    "    print('Now the current working directory is  : ', os.getcwd())\n",
    "\n",
    "#This block handles if the input is not a valid directory to be switched to\n",
    "except(IOError) as I:\n",
    "    print(I)\n",
    "    print('Invalid directory input to move to')\n"
   ]
  },
  {
   "cell_type": "markdown",
   "metadata": {},
   "source": [
    "##  3. Program to handle the ImportError"
   ]
  },
  {
   "cell_type": "code",
   "execution_count": null,
   "metadata": {},
   "outputs": [],
   "source": [
    "#The program below will handle the exception of ImportError\n",
    "\n",
    "#It begins by trying to import an invalid module\n",
    "try:\n",
    "    import osg  #try importing any module\n",
    "    print('Import of module is succesfull')\n",
    "\n",
    "\n",
    "#This block handles if the module we are trying to import is invalid    \n",
    "except (ImportError):\n",
    "    print('You enterd an invalid module')"
   ]
  },
  {
   "cell_type": "markdown",
   "metadata": {},
   "source": [
    "##  4. Program to handle the NameError"
   ]
  },
  {
   "cell_type": "code",
   "execution_count": null,
   "metadata": {},
   "outputs": [],
   "source": [
    "#This program will handle the exception of  NameError\n",
    "\n",
    "#It begins with taking the input to add two numbers\n",
    "try:\n",
    "    a = int(input('enter a number'))\n",
    "    b = int(input('enter another number'))\n",
    "    d = a + e\n",
    "\n",
    "#Below block handles the invalid reference of variable being introduced without any valid reference\n",
    "except (NameError) as n:\n",
    "    print('invalid reference',n)\n",
    "\n"
   ]
  },
  {
   "cell_type": "markdown",
   "metadata": {},
   "source": [
    "##  5. Program to handle the IndexError and ValueError"
   ]
  },
  {
   "cell_type": "code",
   "execution_count": 5,
   "metadata": {},
   "outputs": [
    {
     "name": "stdout",
     "output_type": "stream",
     "text": [
      "enter the number to be added to the list  :  455\n",
      "the new list  [0, 1, 2, 3, 4, 5, 455]\n",
      "Invalid Index reference list index out of range\n"
     ]
    }
   ],
   "source": [
    "#This program will handle the exception of  IndexError & ValueError\n",
    "# 1 Valueerror(incase of invalid input) & \n",
    "# 2 IndexError (incase of trying to access the out of range index in the list)\n",
    "\n",
    "#It begins with initialization of a List \n",
    "try:\n",
    "    List1 = [0,1,2,3,4,5]\n",
    "    j = int(input('enter the number to be added to the list  :  '))\n",
    "    List1.append(j) # Number is appended to the list\n",
    "    \n",
    "    print('the new list ',List1)\n",
    "    k = List1[7] # trying to access out of range index\n",
    "\n",
    "#Below block handles the invalid index reference of 7 whereas there are only 6 elements in the list\n",
    "except (IndexError) as I:\n",
    "    print('Invalid Index reference',I)\n",
    "\n",
    "#Below block handles the invalid input that was taken for the number to be added to the list.\n",
    "except (ValueError) as V:\n",
    "    print('Invalid input with error = ',V)\n",
    "    "
   ]
  },
  {
   "cell_type": "code",
   "execution_count": null,
   "metadata": {},
   "outputs": [],
   "source": []
  }
 ],
 "metadata": {
  "kernelspec": {
   "display_name": "Python 3",
   "language": "python",
   "name": "python3"
  },
  "language_info": {
   "codemirror_mode": {
    "name": "ipython",
    "version": 3
   },
   "file_extension": ".py",
   "mimetype": "text/x-python",
   "name": "python",
   "nbconvert_exporter": "python",
   "pygments_lexer": "ipython3",
   "version": "3.7.4"
  }
 },
 "nbformat": 4,
 "nbformat_minor": 2
}
