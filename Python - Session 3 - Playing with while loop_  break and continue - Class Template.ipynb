{
 "cells": [
  {
   "cell_type": "markdown",
   "metadata": {},
   "source": [
    "### A. While Loop"
   ]
  },
  {
   "cell_type": "markdown",
   "metadata": {},
   "source": [
    "How will you make a computer do a certain task until a condition is satisfied? For example, keep prompting an user for the password unless it matches."
   ]
  },
  {
   "cell_type": "code",
   "execution_count": null,
   "metadata": {},
   "outputs": [],
   "source": [
    "password = ''\n",
    "while password != 'abcde':\n",
    "    password = input('enter password')"
   ]
  },
  {
   "cell_type": "code",
   "execution_count": null,
   "metadata": {},
   "outputs": [],
   "source": [
    "try:\n",
    "    hour = int(input('Enter hour: '))\n",
    "    rate = int(input('Enter rate: '))\n",
    "    \n",
    "    \n",
    "    \n",
    "    while (hour < 0):\n",
    "        print('negative input')\n",
    "        hour = int(input('Enter hour: '))\n",
    "        \n",
    "    \n",
    "\n",
    "    \n",
    "except ValueError as e:\n",
    "    print('Invalid Entry',e)\n",
    "    \n",
    "\n",
    "if hour <= 40:\n",
    "        pay = hour*rate\n",
    "else:\n",
    "        pay = 40*rate + (hour-40)*1.5*rate\n",
    "\n",
    "print(pay)\n",
    "    "
   ]
  },
  {
   "cell_type": "code",
   "execution_count": null,
   "metadata": {},
   "outputs": [],
   "source": [
    "import webbrowser\n",
    "import time\n",
    "counter = 0\n",
    "while counter < 3:\n",
    "    time.sleep(3)\n",
    "    webbrowser.open(\"https://www.youtube.com/watch?v=QHumHBH6m_g\")\n",
    "    counter += 1\n",
    "    \n",
    "    \n",
    "    "
   ]
  },
  {
   "cell_type": "markdown",
   "metadata": {},
   "source": [
    "**A Problem**"
   ]
  },
  {
   "cell_type": "markdown",
   "metadata": {},
   "source": [
    "Suppose that a player wants to play a game which requires him Rs. 1,000 to start. If the current balance in his account is less than Rs. 1,000 he needs to withdraw the extra money from his e-wallet.\n",
    "\n",
    "Note that if the sum of money in his courrent account and the amount withdrawn is greater than or equal to Rs. 1,000 then he can start playing the game. However if the sum is less than Rs. 1,000 then the program should keep displaying the user the message “You still do not have enough money to start playing.” and keep prompting the user to withdraw money unless it crosses Rs. 1,000. Once ready, i.e. if his current account balance crosses Rs. 1,000, it will display a message “Now, you are ready to play the game.” Your program should also display the account balance and the current amount in the e-wallet.\n",
    "\n",
    "(consider: initial account balance is Rs. 200 and money in the e-wallet is Rs. 5,000)\n",
    "\n",
    "(Do further improvement by checking if the e-wallet balance becomes NIL, etc.)"
   ]
  },
  {
   "cell_type": "code",
   "execution_count": null,
   "metadata": {},
   "outputs": [],
   "source": [
    "hand = 200\n",
    "ewallet = 5000\n",
    "counter = 0\n",
    "\n",
    "while hand < 1000:\n",
    "    \n",
    "    counter += 1\n",
    "    \n",
    "    if counter == 1:\n",
    "        print('You do not have enough money to play the game.')\n",
    "    else:\n",
    "        print('You still do not have enough money to play the game.')\n",
    "    \n",
    "    \n",
    "    withdraw = int(input('Withdraw amount from e-wallet: '))\n",
    "    \n",
    "    hand += withdraw\n",
    "    ewallet -= withdraw\n",
    "    \n",
    "    print('Money at Hand', hand)\n",
    "    print('E-Wallet Balance', ewallet)\n",
    "\n",
    "    \n",
    "print('You are good to go...')"
   ]
  },
  {
   "cell_type": "code",
   "execution_count": null,
   "metadata": {},
   "outputs": [],
   "source": [
    "#initialization\n",
    "hand = 200\n",
    "ewallet = 5000\n",
    "\n",
    "while hand < 1000:\n",
    "    \n",
    "    #display a message\n",
    "    print('You do not have enough monet to play the game')\n",
    "    \n",
    "    #Prompt the user to withdraw money from e-wallet\n",
    "    withdraw = int(input('Withdraw amount: '))\n",
    "    \n",
    "    if (withdraw > ewallet) or (withdraw < 0):\n",
    "        print('Cannot withdraw this amount.')\n",
    "    else:\n",
    "        #Update the value of money at hand and ewallet\n",
    "        hand = hand + withdraw\n",
    "        ewallet = ewallet - withdraw\n",
    "    \n",
    "\n",
    "if hand >= 1000:\n",
    "    print('Good to go...')"
   ]
  },
  {
   "cell_type": "markdown",
   "metadata": {},
   "source": [
    "**Take a break**"
   ]
  },
  {
   "cell_type": "code",
   "execution_count": null,
   "metadata": {},
   "outputs": [],
   "source": [
    "import webbrowser"
   ]
  },
  {
   "cell_type": "code",
   "execution_count": null,
   "metadata": {},
   "outputs": [],
   "source": [
    "webbrowser.open(\"https://www.youtube.com/watch?v=AQAyPhE94YI\")"
   ]
  },
  {
   "cell_type": "code",
   "execution_count": null,
   "metadata": {},
   "outputs": [],
   "source": [
    "import time\n",
    "\n",
    "time.sleep(5)\n",
    "\n",
    "webbrowser.open(\"https://www.youtube.com/watch?v=AQAyPhE94YI\")"
   ]
  },
  {
   "cell_type": "code",
   "execution_count": null,
   "metadata": {},
   "outputs": [],
   "source": []
  },
  {
   "cell_type": "code",
   "execution_count": null,
   "metadata": {},
   "outputs": [],
   "source": []
  },
  {
   "cell_type": "markdown",
   "metadata": {},
   "source": [
    "### B. Break and Continue"
   ]
  },
  {
   "cell_type": "markdown",
   "metadata": {},
   "source": [
    "**Recall the password problem**"
   ]
  },
  {
   "cell_type": "markdown",
   "metadata": {},
   "source": [
    "**Make an improvement**\n",
    "\n",
    "If the user fails to enter the password in 5 chances display a message “You have lost your 5 chances” and stop the program."
   ]
  },
  {
   "cell_type": "code",
   "execution_count": null,
   "metadata": {},
   "outputs": [],
   "source": [
    "password = ''\n",
    "\n",
    "count = 0\n",
    "\n",
    "while (password != 'secret') :\n",
    "    count += 1\n",
    "    if count > 1:\n",
    "        print('    PASSWORD DOES NOT MATCH  ')\n",
    "    \n",
    "    #if count > 1:\n",
    "     #   print('The password in invalid')\n",
    "    password = input('Enter the password: ')\n",
    "print('You enterd the right password')\n",
    "    \n",
    "    \n",
    "   "
   ]
  },
  {
   "cell_type": "code",
   "execution_count": null,
   "metadata": {},
   "outputs": [],
   "source": [
    "while True :\n",
    "    password = input('enter password   ')\n",
    "    if password == 'x':\n",
    "        print('    Hurray it is the right password  ')\n",
    "        break\n",
    "    else : \n",
    "        print('Password does not match')\n",
    "    "
   ]
  },
  {
   "cell_type": "raw",
   "metadata": {},
   "source": [
    "password = ''\n",
    "\n",
    "count = 0\n",
    "\n",
    "while (password != 'secret'):\n",
    "    count += 1\n",
    "    if count > 1:\n",
    "        print('The password in invalid')\n",
    "    password = input('Enter the password: ')\n",
    "    \n",
    "    if count == 5:\n",
    "        print('You have lost all 5 chances')\n",
    "        break\n",
    "  "
   ]
  },
  {
   "cell_type": "code",
   "execution_count": null,
   "metadata": {},
   "outputs": [],
   "source": [
    "\n",
    "for i in range(0,5):\n",
    "    password = input('Enter the password: ')\n",
    "    if password == 'secret':\n",
    "        break\n",
    "    else:\n",
    "        print('Incorrect password.')\n",
    "        \n",
    "    if i == 4:\n",
    "        print('You have lost all 5 chances.')\n"
   ]
  },
  {
   "cell_type": "code",
   "execution_count": null,
   "metadata": {},
   "outputs": [],
   "source": [
    "for i in range(0,5):\n",
    "    password = input('Enter the password: ')\n",
    "    if password == 'secret':\n",
    "        break\n",
    "    else:\n",
    "        print('Incorrect password.')\n",
    "\n",
    "if password != 'secret':\n",
    "    print('You have lost all 5 chances.')"
   ]
  },
  {
   "cell_type": "code",
   "execution_count": null,
   "metadata": {},
   "outputs": [],
   "source": [
    "count = 0\n",
    "\n",
    "while True:\n",
    "    count += 1\n",
    "    password = input('Enter password: ')\n",
    "    if password == 'secret':\n",
    "        break\n",
    "    \n",
    "    if count == 5:\n",
    "        print('You have missed 5 chances')\n",
    "        break\n",
    "\n"
   ]
  },
  {
   "cell_type": "markdown",
   "metadata": {},
   "source": [
    "**Make another additional improvement**"
   ]
  },
  {
   "cell_type": "markdown",
   "metadata": {},
   "source": [
    "If the user enters “forgot password”, display a hint and again prompt for password. (But the user will get only 5 chances to enter the password)"
   ]
  },
  {
   "cell_type": "code",
   "execution_count": null,
   "metadata": {},
   "outputs": [],
   "source": [
    "count = 0\n",
    "\n",
    "while True:\n",
    "    count += 1\n",
    "    password = input('Enter password: ')\n",
    "    if password == 'secret':\n",
    "        break\n",
    "    \n",
    "    if password == 'forgot password':\n",
    "        count -= 1    \n",
    "    \n",
    "    if count == 5:\n",
    "        print('You have missed 5 chances')\n",
    "        break\n"
   ]
  },
  {
   "cell_type": "code",
   "execution_count": null,
   "metadata": {},
   "outputs": [],
   "source": [
    "count= 0\n",
    "while 1:\n",
    "    password = input('enter passwrd')\n",
    "    if password == 'x':\n",
    "        print('Exit')\n",
    "        break\n",
    "    if password == 'f':\n",
    "        print('hint : bla bla')\n",
    "        continue\n",
    "    elif password =='secret':\n",
    "        print('welcome')\n",
    "    "
   ]
  },
  {
   "cell_type": "code",
   "execution_count": null,
   "metadata": {},
   "outputs": [],
   "source": [
    "count = 0\n",
    "\n",
    "while True:\n",
    "    password = input('Enter password: ')    \n",
    "    if password == 'forgot password':\n",
    "        print('bla bla bla...')\n",
    "        continue         #None of the lines below continue gets executed...Goes back to the start of the loop\n",
    "    \n",
    "    count += 1\n",
    "    if password == 'secret':\n",
    "        break\n",
    "    \n",
    "    if count == 5:\n",
    "        print('You have missed 5 chances')\n",
    "        break\n"
   ]
  },
  {
   "cell_type": "markdown",
   "metadata": {},
   "source": [
    "#### Make further improvement"
   ]
  },
  {
   "cell_type": "code",
   "execution_count": null,
   "metadata": {},
   "outputs": [],
   "source": [
    "#Codes taken from stack overflow.\n",
    "\n",
    "import sys\n",
    "import time\n",
    "for remaining in range(10, 0, -1):\n",
    "    sys.stdout.write(\"\\r%d seconds remaining.\" %remaining)\n",
    "    time.sleep(1)\n",
    "    \n"
   ]
  },
  {
   "cell_type": "code",
   "execution_count": null,
   "metadata": {},
   "outputs": [],
   "source": []
  },
  {
   "cell_type": "code",
   "execution_count": null,
   "metadata": {},
   "outputs": [],
   "source": []
  },
  {
   "cell_type": "code",
   "execution_count": null,
   "metadata": {},
   "outputs": [],
   "source": []
  },
  {
   "cell_type": "code",
   "execution_count": null,
   "metadata": {},
   "outputs": [],
   "source": []
  },
  {
   "cell_type": "code",
   "execution_count": null,
   "metadata": {},
   "outputs": [],
   "source": []
  },
  {
   "cell_type": "code",
   "execution_count": null,
   "metadata": {},
   "outputs": [],
   "source": [
    "def wait():\n",
    "    import sys\n",
    "    import time\n",
    "    for remaining in range(10, 0, -1):\n",
    "        sys.stdout.write(\"\\r%d seconds remaining.\" %remaining)\n",
    "        time.sleep(1)\n",
    "    \n"
   ]
  },
  {
   "cell_type": "code",
   "execution_count": null,
   "metadata": {},
   "outputs": [],
   "source": [
    "wait()"
   ]
  },
  {
   "cell_type": "code",
   "execution_count": null,
   "metadata": {},
   "outputs": [],
   "source": [
    "password = \"\"\n",
    "\n",
    "count = 0\n",
    "while password != 'Secret':\n",
    "    password = input(\"Enter the password: \")\n",
    "    if password == 'quit':\n",
    "        break\n",
    "    \n",
    "    if password == 'forgot password':\n",
    "        print(\"bla bla bla...\")\n",
    "        continue\n",
    "        \n",
    "    count += 1\n",
    "    if (password != 'Secret') & (count >= 1):\n",
    "        print(\"Incorrect password!\")\n",
    "        \n",
    "    if count%5 == 0:\n",
    "        print(\"Try after sometime...\")\n",
    "        wait()\n",
    "        \n"
   ]
  },
  {
   "cell_type": "code",
   "execution_count": null,
   "metadata": {},
   "outputs": [],
   "source": []
  },
  {
   "cell_type": "code",
   "execution_count": null,
   "metadata": {},
   "outputs": [],
   "source": []
  },
  {
   "cell_type": "code",
   "execution_count": null,
   "metadata": {},
   "outputs": [],
   "source": []
  },
  {
   "cell_type": "code",
   "execution_count": null,
   "metadata": {},
   "outputs": [],
   "source": [
    "password = \"\"\n",
    "\n",
    "count = 0\n",
    "while password != 'Secret':\n",
    "    password = input(\"Enter the password: \")\n",
    "    if password == 'quit':\n",
    "        break\n",
    "    \n",
    "    if password == 'forgot password':\n",
    "        print(\"bla bla bla...\")\n",
    "        continue\n",
    "        \n",
    "    count += 1\n",
    "    if (password != 'Secret') & (count%5) >= 1:\n",
    "        print(\"Incorrect password!\")\n",
    "        \n",
    "    if count%5 == 0:\n",
    "        print(\"Try after 10 seconds\")\n",
    "        wait()\n",
    "        \n",
    "    \n"
   ]
  },
  {
   "cell_type": "markdown",
   "metadata": {},
   "source": [
    "### D. Python functions"
   ]
  },
  {
   "cell_type": "markdown",
   "metadata": {},
   "source": [
    "**1. Some basic functions: min, max, len, sum**"
   ]
  },
  {
   "cell_type": "code",
   "execution_count": null,
   "metadata": {},
   "outputs": [],
   "source": [
    "x = [1,3,4,2,6]"
   ]
  },
  {
   "cell_type": "code",
   "execution_count": null,
   "metadata": {},
   "outputs": [],
   "source": [
    "min(x)"
   ]
  },
  {
   "cell_type": "code",
   "execution_count": null,
   "metadata": {},
   "outputs": [],
   "source": [
    "max(x)"
   ]
  },
  {
   "cell_type": "code",
   "execution_count": null,
   "metadata": {},
   "outputs": [],
   "source": [
    "len(x)"
   ]
  },
  {
   "cell_type": "markdown",
   "metadata": {},
   "source": [
    "**2. Type conversion functions: int, float, str**"
   ]
  },
  {
   "cell_type": "code",
   "execution_count": null,
   "metadata": {},
   "outputs": [],
   "source": [
    "str(1)\n",
    "float()"
   ]
  },
  {
   "cell_type": "markdown",
   "metadata": {},
   "source": [
    "**3. Some math functions: sum, sin, log10 **"
   ]
  },
  {
   "cell_type": "code",
   "execution_count": null,
   "metadata": {},
   "outputs": [],
   "source": [
    "import math"
   ]
  },
  {
   "cell_type": "code",
   "execution_count": null,
   "metadata": {},
   "outputs": [],
   "source": [
    "math.log10(30)"
   ]
  },
  {
   "cell_type": "code",
   "execution_count": null,
   "metadata": {},
   "outputs": [],
   "source": [
    "math.tan(0.7853)"
   ]
  },
  {
   "cell_type": "markdown",
   "metadata": {},
   "source": [
    "** 4. Functions to generate random numbers:**"
   ]
  },
  {
   "cell_type": "code",
   "execution_count": null,
   "metadata": {},
   "outputs": [],
   "source": [
    "import random"
   ]
  },
  {
   "cell_type": "code",
   "execution_count": null,
   "metadata": {},
   "outputs": [],
   "source": [
    "#random.random\n",
    "random.random()"
   ]
  },
  {
   "cell_type": "code",
   "execution_count": null,
   "metadata": {},
   "outputs": [],
   "source": [
    "#random.randint\n",
    "random.randint(1,10)"
   ]
  },
  {
   "cell_type": "code",
   "execution_count": null,
   "metadata": {},
   "outputs": [],
   "source": [
    "#random.choice\n",
    "x = [1,3,4,2,6]\n",
    "random.choice(x)"
   ]
  },
  {
   "cell_type": "markdown",
   "metadata": {},
   "source": [
    "### E. Guess the number Game"
   ]
  },
  {
   "cell_type": "markdown",
   "metadata": {},
   "source": [
    "Guess a number is a game that prompts a player to guess a number between 0 and 9, which is randomly generated by the system. When the input given by the user matches the number generated by the system then the user wins. The game should go as follows:\n",
    "\t\n",
    "\tGuess the number: 5\n",
    "\tSorry, try again\n",
    "\tGuess the number: 3\n",
    "\tSorry, try again\n",
    "\tGuess the number: 8\n",
    "\tYou got it right! Congo!\n",
    "    \n",
    "    Guess the number: 5\n",
    "\tSorry, try again\n",
    "\tGuess the number: 3\n",
    "\tSorry, try again\n",
    "\tGuess the number: exit\n",
    "\tEnjoy your day!"
   ]
  },
  {
   "cell_type": "code",
   "execution_count": 3,
   "metadata": {},
   "outputs": [
    {
     "name": "stdout",
     "output_type": "stream",
     "text": [
      " enter the guessing number   1\n",
      " enter the guessing number   2\n",
      " enter the guessing number   3\n",
      " enter the guessing number   4\n",
      " enter the guessing number   5\n",
      "sorry finished all 5 chances\n"
     ]
    }
   ],
   "source": [
    "import sys\n",
    "import random\n",
    "\n",
    "\n",
    "j = random.randrange(0,9,1)\n",
    "counter = 0\n",
    "while counter < 5 :\n",
    "    #j = random.randrange(0,9,1)\n",
    "    k = int(input(' enter the guessing number   '))\n",
    "    counter +=1 \n",
    "    if j == k:\n",
    "        print('you guessed it right it is ', j)\n",
    "        break\n",
    "print('sorry finished all 5 chances')\n",
    "        "
   ]
  },
  {
   "cell_type": "markdown",
   "metadata": {},
   "source": [
    "###### "
   ]
  },
  {
   "cell_type": "code",
   "execution_count": null,
   "metadata": {},
   "outputs": [],
   "source": []
  }
 ],
 "metadata": {
  "kernelspec": {
   "display_name": "Python 3",
   "language": "python",
   "name": "python3"
  },
  "language_info": {
   "codemirror_mode": {
    "name": "ipython",
    "version": 3
   },
   "file_extension": ".py",
   "mimetype": "text/x-python",
   "name": "python",
   "nbconvert_exporter": "python",
   "pygments_lexer": "ipython3",
   "version": "3.7.4"
  }
 },
 "nbformat": 4,
 "nbformat_minor": 2
}
